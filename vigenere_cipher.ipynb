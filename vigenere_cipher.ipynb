{
  "nbformat": 4,
  "nbformat_minor": 0,
  "metadata": {
    "colab": {
      "provenance": []
    },
    "kernelspec": {
      "name": "python3",
      "display_name": "Python 3"
    },
    "language_info": {
      "name": "python"
    }
  },
  "cells": [
    {
      "cell_type": "code",
      "execution_count": null,
      "metadata": {
        "colab": {
          "base_uri": "https://localhost:8080/"
        },
        "id": "vEtuAbC1F7_y",
        "outputId": "d0ec07b0-7ef5-4feb-84ce-f8bda71c0310"
      },
      "outputs": [
        {
          "output_type": "stream",
          "name": "stdout",
          "text": [
            "masukkan plainteks = khana pujiyanti\n",
            "plainteks = ['k', 'h', 'a', 'n', 'a', ' ', 'p', 'u', 'j', 'i', 'y', 'a', 'n', 't', 'i']\n",
            "key = [1, 2, 3]\n",
            "R = [10, 7, 0, 13, 0, 26, 15, 20, 9, 8, 24, 0, 13, 19, 8]\n",
            "5\n",
            "hasil = [11, 9, 3, 14, 2, 3, 16, 22, 12, 9, 0, 3, 14, 21, 11]\n",
            "cipherteks = ['l', 'j', 'd', 'o', 'c', 'd', 'q', 'w', 'm', 'j', 'a', 'd', 'o', 'v', 'l']\n"
          ]
        }
      ],
      "source": [
        "# enkripsi\n",
        "huruf1 = ['a','b','c','d','e','f','g','h','i','j','k','l','m','n','o','p','q','r','s','t','u','v','w','x','y','z',' ']\n",
        "i = 0\n",
        "huruf2 = []\n",
        "while i<27:\n",
        "  huruf2.append(i)\n",
        "  i+=1\n",
        "key =[1,2,3]\n",
        "\n",
        "kalimat = input('masukkan plainteks = ') #tanpa spasi\n",
        "plainteks = [*kalimat]\n",
        "print(f'plainteks = {plainteks}')\n",
        "print(f'key = {key}')\n",
        "\n",
        "list = []\n",
        "i = 0\n",
        "while i < len(plainteks):\n",
        "  q = huruf2[huruf1.index(plainteks[i])]\n",
        "  list.append(q)\n",
        "  i+=1\n",
        "print(f'R = {list}')\n",
        "\n",
        "import math\n",
        "bagian = math.ceil(len(plainteks)/len(key))\n",
        "print(bagian)\n",
        "\n",
        "m = 0\n",
        "while m < len(plainteks):\n",
        "  x = m % len(key)\n",
        "  plainteks[m] = (list[m] + key[x])%26\n",
        "  m += 1\n",
        "print(f'hasil = {plainteks}')\n",
        "\n",
        "n = 0\n",
        "hasil = []\n",
        "while n < len(plainteks):\n",
        "  r = huruf1[huruf2.index(plainteks[n])]\n",
        "  hasil.append(r)\n",
        "  n += 1\n",
        "\n",
        "print(f'cipherteks = {hasil}')"
      ]
    }
  ]
}