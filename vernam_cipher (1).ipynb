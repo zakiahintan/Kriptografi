{
  "nbformat": 4,
  "nbformat_minor": 0,
  "metadata": {
    "colab": {
      "provenance": []
    },
    "kernelspec": {
      "name": "python3",
      "display_name": "Python 3"
    },
    "language_info": {
      "name": "python"
    }
  },
  "cells": [
    {
      "cell_type": "code",
      "source": [
        "def Vernam(Plain,Key,Flag):\n",
        "  from operator import xor\n",
        "  result = []\n",
        "  hasil = []\n",
        "  for i in range(len(Plain)):\n",
        "    # Enkripsi\n",
        "    if Flag == True:\n",
        "      plain1 = Plain.upper()\n",
        "      key = Key.upper()\n",
        "      x = [*(bin(ord(plain1[i])-65)[2:].zfill(7))]\n",
        "      y = [*(bin(ord(key[i])-65)[2:].zfill(7))]\n",
        "\n",
        "      for i in range(len(x)):\n",
        "        if x[i] == '1':\n",
        "          x[i] = True\n",
        "        else:\n",
        "          x[i] = False\n",
        "\n",
        "      for k in range(len(y)):\n",
        "        if y[k] == '1':\n",
        "          y[k] = True\n",
        "        else:\n",
        "          y[k] = False\n",
        "\n",
        "      n = 0\n",
        "      a = []\n",
        "      while n < len(x):\n",
        "        a.append(x[n] ^ y[n])\n",
        "        n+=1\n",
        "      p = a.copy()\n",
        "      for l in range(len(a)):\n",
        "        if a[l] == True:\n",
        "          a[l] = '1'\n",
        "        else:\n",
        "          a[l] = '0'\n",
        "      b = \"\"+\"\".join(a)\n",
        "      hasilxor = chr((int(b,2)%26)+65)\n",
        "      result.append(hasilxor)\n",
        "      c = \"\"+\"\".join(result)\n",
        "      # Dekripsi\n",
        "      n = 0\n",
        "      q = []\n",
        "      while n < len(p):\n",
        "        q.append(p[n] ^ y[n])\n",
        "        n+=1\n",
        "      for l in range(len(q)):\n",
        "        if q[l] == True:\n",
        "          q[l] = '1'\n",
        "        else:\n",
        "          q[l] = '0'\n",
        "      r = \"\"+\"\".join(q)\n",
        "      hasilnew = chr((int(r,2)%26)+65)\n",
        "      hasil.append(hasilnew)\n",
        "      s = \"\"+\"\".join(hasil)\n",
        "    elif Flag == False:\n",
        "      plain1 = Plain.lower()\n",
        "      key = Key.lower()\n",
        "      x = [*(bin(ord(plain1[i])-97)[2:].zfill(7))]\n",
        "      y = [*(bin(ord(key[i])-97)[2:].zfill(7))]\n",
        "\n",
        "      for i in range(len(x)):\n",
        "        if x[i] == '1':\n",
        "          x[i] = True\n",
        "        else:\n",
        "          x[i] = False\n",
        "\n",
        "      for k in range(len(y)):\n",
        "        if y[k] == '1':\n",
        "          y[k] = True\n",
        "        else:\n",
        "          y[k] = False\n",
        "\n",
        "      n = 0\n",
        "      a = []\n",
        "      while n < len(x):\n",
        "        a.append(x[n] ^ y[n])\n",
        "        n+=1\n",
        "      p = a.copy()\n",
        "      for l in range(len(a)):\n",
        "        if a[l] == True:\n",
        "          a[l] = '1'\n",
        "        else:\n",
        "          a[l] = '0'\n",
        "      b = \"\"+\"\".join(a)\n",
        "      hasilxor = chr((int(b,2)%26)+97)\n",
        "      result.append(hasilxor)\n",
        "      c = \"\"+\"\".join(result)\n",
        "     # Dekripsi\n",
        "      n = 0\n",
        "      q = []\n",
        "      while n < len(p):\n",
        "        q.append(p[n] ^ y[n])\n",
        "        n+=1\n",
        "      for l in range(len(q)):\n",
        "        if q[l] == True:\n",
        "          q[l] = '1'\n",
        "        else:\n",
        "          q[l] = '0'\n",
        "      r = \"\"+\"\".join(q)\n",
        "      hasilnew = chr((int(r,2)%26)+97)\n",
        "      hasil.append(hasilnew)\n",
        "      s = \"\"+\"\".join(hasil)\n",
        "  print('Enkripsi')\n",
        "  print(f'plainteks = {plain1}')\n",
        "  print(f'cipherteks = {c}')\n",
        "  print('\\nDekripsi')\n",
        "  print(f'cipherteks = {c}')\n",
        "  print(f'plainteks = {s}')\n",
        "  print(x)"
      ],
      "metadata": {
        "id": "tBwBykNWYpiT"
      },
      "execution_count": null,
      "outputs": []
    },
    {
      "cell_type": "code",
      "source": [
        "Vernam('divisionring','substraction', False)"
      ],
      "metadata": {
        "colab": {
          "base_uri": "https://localhost:8080/"
        },
        "id": "8t8DPxUYy_7F",
        "outputId": "1c8a81c4-60a3-4cf1-f1f8-d243262004a3"
      },
      "execution_count": null,
      "outputs": [
        {
          "output_type": "stream",
          "name": "stdout",
          "text": [
            "Enkripsi\n",
            "plainteks = divisionring\n",
            "cipherteks = rcuabzopcadl\n",
            "\n",
            "Dekripsi\n",
            "cipherteks = rcuabzopcadl\n",
            "plainteks = divisionring\n",
            "[False, False, False, False, True, True, False]\n"
          ]
        }
      ]
    },
    {
      "cell_type": "code",
      "source": [
        "Vernam('matematika','XNPTJHKLId',True)"
      ],
      "metadata": {
        "colab": {
          "base_uri": "https://localhost:8080/"
        },
        "id": "2OiZdi0EY1QL",
        "outputId": "1e4d7d25-f720-4f39-a4ec-116963682fc3"
      },
      "execution_count": null,
      "outputs": [
        {
          "output_type": "stream",
          "name": "stdout",
          "text": [
            "Enkripsi\n",
            "plainteks = MATEMATIKA\n",
            "cipherteks = BNCXFHZDCD\n",
            "\n",
            "Dekripsi\n",
            "cipherteks = BNCXFHZDCD\n",
            "plainteks = MATEMATIKA\n"
          ]
        }
      ]
    },
    {
      "cell_type": "code",
      "source": [
        "Vernam('mAteMatiKa','XnptjhklId', False)"
      ],
      "metadata": {
        "colab": {
          "base_uri": "https://localhost:8080/"
        },
        "id": "5IsYN50my6D5",
        "outputId": "5a2abb87-e822-4aa1-fb47-98032b6522c8"
      },
      "execution_count": null,
      "outputs": [
        {
          "output_type": "stream",
          "name": "stdout",
          "text": [
            "Enkripsi\n",
            "plainteks = matematika\n",
            "cipherteks = bncxfhzdcd\n",
            "\n",
            "Dekripsi\n",
            "cipherteks = bncxfhzdcd\n",
            "plainteks = matematika\n"
          ]
        }
      ]
    }
  ]
}