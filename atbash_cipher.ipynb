{
  "nbformat": 4,
  "nbformat_minor": 0,
  "metadata": {
    "colab": {
      "provenance": []
    },
    "kernelspec": {
      "name": "python3",
      "display_name": "Python 3"
    },
    "language_info": {
      "name": "python"
    }
  },
  "cells": [
    {
      "cell_type": "code",
      "execution_count": null,
      "metadata": {
        "id": "UtvgJuPtolmh"
      },
      "outputs": [],
      "source": [
        "def atbash_encrypt(plaintext):\n",
        "    \"\"\"\n",
        "    Mengenkripsi plaintext menggunakan atbash\n",
        "    \"\"\"\n",
        "    ciphertext = \"\"\n",
        "    key = []\n",
        "    for i in range (25):\n",
        "      key.append(i)\n",
        "    for char in plaintext:\n",
        "        if char.isalpha():\n",
        "            # Terapkan transformasi atbash\n",
        "            for n in key :\n",
        "              if char.isupper():\n",
        "                char = chr(ord('Z')-n)\n",
        "              else:\n",
        "                char = chr(ord('z')-n)\n",
        "        ciphertext += char\n",
        "    return ciphertext #menampilkan cipherteks\n",
        "\n",
        "\n",
        "def affine_cipher_decrypt(ciphertext, a, b):\n",
        "    \"\"\"\n",
        "    Mendekripsi ciphertext menggunakan affine cipher dengan kunci (a, b).\n",
        "    \"\"\"\n",
        "    plaintext = \"\"\n",
        "    a_inverse = pow(a, -1, 26)  # Hitung inversi multiplikatif modular dari a\n",
        "    for char in ciphertext:\n",
        "        if char.isalpha():     # untuk mengecek apakah semua karakter dalam variabel char berupa huruf (a-z) atau bukan\n",
        "            # Terapkan inversi transformasi affine ke karakter\n",
        "            if char.isupper():\n",
        "                char_value = ord(char) - ord('A') #mengubah angka karakter ASCII ke angka karakter yang kita mau\n",
        "                char_value = ((char_value - b) * a_inverse) % 26 #rumus dekripsi affine cipher\n",
        "                char = chr(char_value + ord('A')) #mengembalikan angka karakter ke ASCII\n",
        "            else:\n",
        "                char_value = ord(char) - ord('a')\n",
        "                char_value = ((char_value - b) * a_inverse) % 26\n",
        "                char = chr(char_value + ord('a'))\n",
        "        plaintext += char #menambahkan hasil enkripsi dari setiap huruf ke dalam variabel cipherteks\n",
        "    return plaintext #menampilkan cipherteks"
      ]
    },
    {
      "cell_type": "code",
      "source": [
        "def atbash_encrypt(plaintext):\n",
        "    \"\"\"\n",
        "    Mengenkripsi plaintext menggunakan atbash\n",
        "    \"\"\"\n",
        "    ciphertext = \"\"\n",
        "    for char in plaintext:\n",
        "        if char.isalpha():\n",
        "          key_A = []\n",
        "          key_B = []\n",
        "          for i in range(ord('A'),ord('Z')+1):\n",
        "            key_A.append(i)\n",
        "            key_B.append(-i)\n",
        "          # Terapkan transformasi atbash\n",
        "          n=0\n",
        "          while n < len(key) :\n",
        "            if char.isupper():\n",
        "              char = chr(ord('Z')-key[n])\n",
        "            else:\n",
        "              char = chr(ord('z')-key[n])\n",
        "            n+=1\n",
        "            ciphertext += char\n",
        "    return ciphertext #menampilkan cipherteks"
      ],
      "metadata": {
        "id": "fbXq1zh6qQol"
      },
      "execution_count": null,
      "outputs": []
    },
    {
      "cell_type": "code",
      "source": [
        "atbash_encrypt('BACA')"
      ],
      "metadata": {
        "colab": {
          "base_uri": "https://localhost:8080/",
          "height": 35
        },
        "id": "CM6OkqfEsU6L",
        "outputId": "9e1b43b7-c67a-402e-8a37-3fceda14b557"
      },
      "execution_count": null,
      "outputs": [
        {
          "output_type": "execute_result",
          "data": {
            "text/plain": [
              "'BBBB'"
            ],
            "application/vnd.google.colaboratory.intrinsic+json": {
              "type": "string"
            }
          },
          "metadata": {},
          "execution_count": 19
        }
      ]
    },
    {
      "cell_type": "code",
      "source": [
        "def atbash_encrypt(plaintext, a=-1, b=-1):\n",
        "    \"\"\"\n",
        "    Mengenkripsi plaintext menggunakan atbash cipher\n",
        "    \"\"\"\n",
        "    ciphertext = \"\"\n",
        "    for char in plaintext: #membuat perulangan di plaintext (yang kita input)\n",
        "        if char.isalpha(): #jika inputan berupa huruf maka jalankan perintah berikutnya\n",
        "            # Terapkan transformasi affine ke karakter\n",
        "            if char.isupper():\n",
        "                char_value = ord(char) - ord('A') #mengubah angka karakter ASCII ke angka karakter yang kita mau\n",
        "                char_value = ((a * char_value) + b) % 26 #rumus enkripsi affine cipher\n",
        "                char = chr(char_value + ord('A')) #mengembalikan angka karakter ke ASCII\n",
        "            else:\n",
        "                char_value = ord(char) - ord('a')\n",
        "                char_value = ((a * char_value) + b) % 26\n",
        "                char = chr(char_value + ord('a'))\n",
        "        ciphertext += char\n",
        "    return ciphertext #menampilkan cipherteks\n",
        "\n",
        "\n",
        "def atbash_decrypt(ciphertext, a=-1, b=-1):\n",
        "    \"\"\"\n",
        "    Mendekripsi ciphertext menggunakan affine cipher dengan kunci (a, b).\n",
        "    \"\"\"\n",
        "    plaintext = \"\"\n",
        "    a_inverse = pow(a, -1, 26)  # Hitung inversi multiplikatif modular dari a\n",
        "    for char in ciphertext:\n",
        "        if char.isalpha():     # untuk mengecek apakah semua karakter dalam variabel char berupa huruf (a-z) atau bukan\n",
        "            # Terapkan inversi transformasi affine ke karakter\n",
        "            if char.isupper():\n",
        "                char_value = ord(char) - ord('A') #mengubah angka karakter ASCII ke angka karakter yang kita mau\n",
        "                char_value = ((char_value - b) * a_inverse) % 26 #rumus dekripsi affine cipher\n",
        "                char = chr(char_value + ord('A')) #mengembalikan angka karakter ke ASCII\n",
        "            else:\n",
        "                char_value = ord(char) - ord('a')\n",
        "                char_value = ((char_value - b) * a_inverse) % 26\n",
        "                char = chr(char_value + ord('a'))\n",
        "        plaintext += char #menambahkan hasil enkripsi dari setiap huruf ke dalam variabel cipherteks\n",
        "    return plaintext #menampilkan cipherteks"
      ],
      "metadata": {
        "id": "iW4CNjxrr9Fd"
      },
      "execution_count": null,
      "outputs": []
    },
    {
      "cell_type": "code",
      "source": [
        "atbash_encrypt('Mirror',-1,-1)"
      ],
      "metadata": {
        "colab": {
          "base_uri": "https://localhost:8080/",
          "height": 36
        },
        "id": "sKdVl0ec2gR0",
        "outputId": "bf061500-7514-4c91-e9ba-0245e26caa67"
      },
      "execution_count": null,
      "outputs": [
        {
          "output_type": "execute_result",
          "data": {
            "text/plain": [
              "'Nriili'"
            ],
            "application/vnd.google.colaboratory.intrinsic+json": {
              "type": "string"
            }
          },
          "metadata": {},
          "execution_count": 3
        }
      ]
    },
    {
      "cell_type": "code",
      "source": [],
      "metadata": {
        "id": "9fNmEhu42yvz"
      },
      "execution_count": null,
      "outputs": []
    }
  ]
}