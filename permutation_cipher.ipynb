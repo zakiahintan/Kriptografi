{
  "nbformat": 4,
  "nbformat_minor": 0,
  "metadata": {
    "colab": {
      "provenance": []
    },
    "kernelspec": {
      "name": "python3",
      "display_name": "Python 3"
    },
    "language_info": {
      "name": "python"
    }
  },
  "cells": [
    {
      "cell_type": "code",
      "source": [
        "# Enkripsi\n",
        "print('Permutation Cipher dengan 8 elemen kunci')\n",
        "import random\n",
        "panjang_m = 8\n",
        "phi = []\n",
        "i = int(input('nilai awal='))\n",
        "x = i+panjang_m\n",
        "while i < x :\n",
        "  phi.append(i)\n",
        "  i+=1\n",
        "print(f'kunci = {phi}')\n",
        "kunci = phi.copy()\n",
        "\n",
        "kalimat = input('plainteks= ')\n",
        "plainteks = [*kalimat];\n",
        "\n",
        "# untuk kalimat dengan elemen <= 16\n",
        "bagian1 = []\n",
        "bagian2 = []\n",
        "\n",
        "for k in range(len(plainteks)):\n",
        "  if k < panjang_m :\n",
        "    bagian1.append(plainteks[k])\n",
        "  else:\n",
        "    bagian2.append(plainteks[k])\n",
        "\n",
        "while len(bagian2) < panjang_m :\n",
        "  bagian2.append('X')\n",
        "\n",
        "a1 = bagian1.copy()\n",
        "a2 = bagian2.copy()\n",
        "\n",
        "# kunci baru untuk mengenkripsi\n",
        "random.shuffle(phi)\n",
        "print(f'phi = {phi}')\n",
        "\n",
        "p = 0\n",
        "while p < panjang_m :\n",
        "  bagian1[p] = a1[kunci.index(phi[p])]\n",
        "  bagian2[p] = a2[kunci.index(phi[p])]\n",
        "  p += 1\n",
        "\n",
        "cipherteks = bagian1 + bagian2\n",
        "a = ' '.join(cipherteks)\n",
        "print(f'cipherteks = {a}')"
      ],
      "metadata": {
        "colab": {
          "base_uri": "https://localhost:8080/"
        },
        "id": "DPgGFoECJY0t",
        "outputId": "d82f0b8c-07b9-47ce-8efa-f2a142a0594b"
      },
      "execution_count": null,
      "outputs": [
        {
          "output_type": "stream",
          "name": "stdout",
          "text": [
            "Permutation Cipher dengan 8 elemen kunci\n",
            "nilai awal=6\n",
            "kunci = [6, 7, 8, 9, 10, 11, 12, 13]\n",
            "plainteks= matematika fast\n",
            "phi = [6, 8, 9, 10, 11, 7, 12, 13]\n",
            "cipherteks = m t e m a a t i k   f a s a t X\n"
          ]
        }
      ]
    },
    {
      "cell_type": "code",
      "source": [
        "# Dekripsi\n",
        "inv_kunci=[]\n",
        "for i in range(len(kunci)) :\n",
        "  inv_kunci.append(kunci[phi.index(kunci[i])])\n",
        "print(f'invers kunci = {inv_kunci}')\n",
        "\n",
        "x=[]\n",
        "y=[]\n",
        "for i in range(panjang_m):\n",
        "  x.append(bagian1[kunci.index(inv_kunci[i])])\n",
        "  y.append(bagian2[kunci.index(inv_kunci[i])])\n",
        "\n",
        "plainteks_new = x + y\n",
        "while len(plainteks_new) > len(plainteks):\n",
        "  plainteks_new.remove('X')\n",
        "a = ' '.join(plainteks_new)\n",
        "print(f'plainteks = {a}')"
      ],
      "metadata": {
        "id": "DxM3_F4o6N5c",
        "colab": {
          "base_uri": "https://localhost:8080/"
        },
        "outputId": "43153721-8361-41e2-ea37-f43e2dff6709"
      },
      "execution_count": null,
      "outputs": [
        {
          "output_type": "stream",
          "name": "stdout",
          "text": [
            "invers kunci = [6, 11, 7, 8, 9, 10, 12, 13]\n",
            "plainteks = m a t e m a t i k a   f a s t\n"
          ]
        }
      ]
    },
    {
      "cell_type": "markdown",
      "source": [
        "LATIHAN"
      ],
      "metadata": {
        "id": "HMIitw7h_2gt"
      }
    },
    {
      "cell_type": "markdown",
      "source": [
        "2"
      ],
      "metadata": {
        "id": "ufdfELtC67qt"
      }
    },
    {
      "cell_type": "code",
      "source": [
        "# Enkripsi\n",
        "import random\n",
        "panjang_m = 6\n",
        "kunci = [3,4,5,6,7,8]\n",
        "phi = [5,8,7,4,6,3]\n",
        "\n",
        "\n",
        "kalimat = input('plainteks= ')\n",
        "plainteks = [*kalimat];\n",
        "\n",
        "# untuk kalimat dengan elemen <= 16\n",
        "bagian1 = []\n",
        "bagian2 = []\n",
        "bagian3 = []\n",
        "\n",
        "for k in range(len(plainteks)):\n",
        "  if k < panjang_m :\n",
        "    bagian1.append(plainteks[k])\n",
        "  elif panjang_m <= k < 2*panjang_m:\n",
        "    bagian2.append(plainteks[k])\n",
        "  else:\n",
        "    bagian3.append(plainteks[k])\n",
        "\n",
        "while len(bagian3) < panjang_m :\n",
        "  bagian3.append('X')\n",
        "\n",
        "a1 = bagian1.copy()\n",
        "a2 = bagian2.copy()\n",
        "a3 = bagian3.copy()\n",
        "\n",
        "p = 0\n",
        "while p < panjang_m :\n",
        "  bagian1[p] = a1[kunci.index(phi[p])]\n",
        "  bagian2[p] = a2[kunci.index(phi[p])]\n",
        "  bagian3[p] = a3[kunci.index(phi[p])]\n",
        "  p += 1\n",
        "\n",
        "cipherteks = bagian1 + bagian2 + bagian3\n",
        "a = ' '.join(cipherteks)\n",
        "print(f'cipherteks = {a}')"
      ],
      "metadata": {
        "colab": {
          "base_uri": "https://localhost:8080/"
        },
        "id": "XcohyOfm_3iO",
        "outputId": "17781148-49d9-46a1-8d18-ef199584f930"
      },
      "execution_count": null,
      "outputs": [
        {
          "output_type": "stream",
          "name": "stdout",
          "text": [
            "plainteks= permutation cipher\n",
            "cipherteks = r t u e m p i   n t o a p r e i h c\n"
          ]
        }
      ]
    },
    {
      "cell_type": "code",
      "source": [
        "# Dekripsi\n",
        "inv_kunci=[]\n",
        "for i in range(len(kunci)) :\n",
        "  inv_kunci.append(kunci[phi.index(kunci[i])])\n",
        "print(f'invers kunci = {inv_kunci}')\n",
        "\n",
        "x=[]\n",
        "y=[]\n",
        "z=[]\n",
        "for i in range(panjang_m):\n",
        "  x.append(bagian1[kunci.index(inv_kunci[i])])\n",
        "  y.append(bagian2[kunci.index(inv_kunci[i])])\n",
        "  z.append(bagian3[kunci.index(inv_kunci[i])])\n",
        "\n",
        "plainteks_new = x + y + z\n",
        "while len(plainteks_new) > len(plainteks):\n",
        "  plainteks_new.remove('X')\n",
        "a = ' '.join(plainteks_new)\n",
        "print(f'plainteks = {a}')"
      ],
      "metadata": {
        "colab": {
          "base_uri": "https://localhost:8080/"
        },
        "id": "Fm97h8_gBtsb",
        "outputId": "9f52cd57-c060-4546-f25f-f2ea4f6f00e8"
      },
      "execution_count": null,
      "outputs": [
        {
          "output_type": "stream",
          "name": "stdout",
          "text": [
            "invers kunci = [8, 6, 3, 7, 5, 4]\n",
            "plainteks = p e r m u t a t i o n   c i p h e r\n"
          ]
        }
      ]
    },
    {
      "cell_type": "code",
      "source": [
        "# Dekripsi\n",
        "kunci = [3,4,5,6,7,8]\n",
        "inv_kunci = [8,6,3,7,5,4]\n",
        "panjang_m = len(kunci)\n",
        "cipherteks = [*input('cipherteks = ')]\n",
        "\n",
        "bagian1 = []\n",
        "bagian2 = []\n",
        "bagian3 = []\n",
        "\n",
        "for k in range(len(cipherteks)):\n",
        "  if k < panjang_m :\n",
        "    bagian1.append(cipherteks[k])\n",
        "  elif panjang_m <= k < 2*panjang_m:\n",
        "    bagian2.append(cipherteks[k])\n",
        "  else:\n",
        "    bagian3.append(cipherteks[k])\n",
        "\n",
        "x=[]\n",
        "y=[]\n",
        "z=[]\n",
        "for i in range(panjang_m):\n",
        "  x.append(bagian1[kunci.index(inv_kunci[i])])\n",
        "  y.append(bagian2[kunci.index(inv_kunci[i])])\n",
        "  z.append(bagian3[kunci.index(inv_kunci[i])])\n",
        "cipherteks_new = x + y + z\n",
        "a = ' '.join(cipherteks_new)\n",
        "print(f'plainteks = {a}')"
      ],
      "metadata": {
        "colab": {
          "base_uri": "https://localhost:8080/"
        },
        "id": "IaSeZung2LAK",
        "outputId": "380e903c-17df-4969-d09b-548c9b44ae95"
      },
      "execution_count": null,
      "outputs": [
        {
          "output_type": "stream",
          "name": "stdout",
          "text": [
            "cipherteks = rtuempi ntoapreihc\n",
            "plainteks = p e r m u t a t i o n   c i p h e r\n"
          ]
        }
      ]
    },
    {
      "cell_type": "markdown",
      "source": [
        "3"
      ],
      "metadata": {
        "id": "dYQs3Oz56-Wb"
      }
    },
    {
      "cell_type": "code",
      "source": [
        "# Enkripsi\n",
        "import random\n",
        "panjang_m = 6\n",
        "phi = []\n",
        "i = int(input('nilai awal='))\n",
        "x = i+panjang_m\n",
        "while i < x :\n",
        "  phi.append(i)\n",
        "  i+=1\n",
        "print(f'kunci = {phi}')\n",
        "kunci = phi.copy()\n",
        "\n",
        "kalimat = input('plainteks= ') #panjangnya harus 21\n",
        "plainteks = [*kalimat];\n",
        "\n",
        "bagian1 = []\n",
        "bagian2 = []\n",
        "bagian3 = []\n",
        "bagian4 = []\n",
        "\n",
        "for k in range(len(plainteks)):\n",
        "  if k < panjang_m :\n",
        "    bagian1.append(plainteks[k])\n",
        "  elif panjang_m <= k < 2*panjang_m :\n",
        "    bagian2.append(plainteks[k])\n",
        "  elif 2*panjang_m <= k < 3*panjang_m :\n",
        "    bagian3.append(plainteks[k])\n",
        "  else:\n",
        "    bagian4.append(plainteks[k])\n",
        "\n",
        "while len(bagian4) < panjang_m :\n",
        "  bagian4.append('X')\n",
        "\n",
        "a1 = bagian1.copy()\n",
        "a2 = bagian2.copy()\n",
        "a3 = bagian3.copy()\n",
        "a4 = bagian4.copy()\n",
        "\n",
        "# kunci baru untuk mengenkripsi\n",
        "random.shuffle(phi)\n",
        "print(f'phi = {phi}')\n",
        "\n",
        "p = 0\n",
        "while p < panjang_m :\n",
        "  bagian1[p] = a1[kunci.index(phi[p])]\n",
        "  bagian2[p] = a2[kunci.index(phi[p])]\n",
        "  bagian3[p] = a3[kunci.index(phi[p])]\n",
        "  bagian4[p] = a4[kunci.index(phi[p])]\n",
        "  p += 1\n",
        "\n",
        "cipherteks = bagian1 + bagian2 + bagian3 + bagian4\n",
        "a = ' '.join(cipherteks)\n",
        "print(f'cipherteks = {a}')"
      ],
      "metadata": {
        "colab": {
          "base_uri": "https://localhost:8080/"
        },
        "id": "_STYXQkG61hn",
        "outputId": "11498a40-bdb9-4632-d4e9-1fee3239e3ce"
      },
      "execution_count": null,
      "outputs": [
        {
          "output_type": "stream",
          "name": "stdout",
          "text": [
            "nilai awal=7\n",
            "kunci = [7, 8, 9, 10, 11, 12]\n",
            "plainteks= monoalphabetic cipher\n",
            "phi = [12, 7, 11, 10, 8, 9]\n",
            "cipherteks = l m a o o n t p e b h a p i i c c   X h X X e r\n"
          ]
        }
      ]
    },
    {
      "cell_type": "code",
      "source": [
        "# Dekripsi\n",
        "inv_kunci=[]\n",
        "for i in range(len(kunci)) :\n",
        "  inv_kunci.append(kunci[phi.index(kunci[i])])\n",
        "print(f'invers kunci = {inv_kunci}')\n",
        "\n",
        "x=[]\n",
        "y=[]\n",
        "z=[]\n",
        "a=[]\n",
        "for i in range(panjang_m):\n",
        "  x.append(bagian1[kunci.index(inv_kunci[i])])\n",
        "  y.append(bagian2[kunci.index(inv_kunci[i])])\n",
        "  z.append(bagian3[kunci.index(inv_kunci[i])])\n",
        "  a.append(bagian4[kunci.index(inv_kunci[i])])\n",
        "\n",
        "plainteks_new = x + y + z + a\n",
        "while len(plainteks_new) > len(plainteks):\n",
        "  plainteks_new.remove('X')\n",
        "a = ' '.join(plainteks_new)\n",
        "print(f'plainteks = {a}')"
      ],
      "metadata": {
        "colab": {
          "base_uri": "https://localhost:8080/"
        },
        "id": "a3d7xFWO8imt",
        "outputId": "1b03f7f6-600f-4e3a-c1b7-b6e59ebf84b1"
      },
      "execution_count": null,
      "outputs": [
        {
          "output_type": "stream",
          "name": "stdout",
          "text": [
            "invers kunci = [8, 11, 12, 10, 9, 7]\n",
            "plainteks = m o n o a l p h a b e t i c   c i p h e r\n"
          ]
        }
      ]
    },
    {
      "cell_type": "markdown",
      "source": [
        "INPUTAN"
      ],
      "metadata": {
        "id": "WuDtWfjq-DGQ"
      }
    },
    {
      "cell_type": "code",
      "source": [
        "# Enkripsi\n",
        "import random\n",
        "key = input('kunci =')\n",
        "phi = []\n",
        "i = int(input('nilai awal='))\n",
        "x = i+len(key)\n",
        "while i < x :\n",
        "  phi.append(i)\n",
        "  i+=1\n",
        "print(f'kunci = {phi}')\n",
        "kunci = phi.copy()\n",
        "\n",
        "kalimat = input('plainteks= ')\n",
        "plainteks = [*kalimat];\n",
        "\n",
        "bagian1 = []\n",
        "bagian2 = []\n",
        "\n",
        "for k in range(len(plainteks)):\n",
        "  if k < panjang_m :\n",
        "    bagian1.append(plainteks[k])\n",
        "  else:\n",
        "    bagian2.append(plainteks[k])\n",
        "\n",
        "while len(bagian2) < panjang_m :\n",
        "  bagian2.append('X')\n",
        "\n",
        "a1 = bagian1.copy()\n",
        "a2 = bagian2.copy()\n",
        "\n",
        "# kunci baru untuk mengenkripsi\n",
        "random.shuffle(phi)\n",
        "print(f'phi = {phi}')\n",
        "\n",
        "p = 0\n",
        "while p < panjang_m :\n",
        "  bagian1[p] = a1[kunci.index(phi[p])]\n",
        "  bagian2[p] = a2[kunci.index(phi[p])]\n",
        "  p += 1\n",
        "\n",
        "cipherteks = bagian1 + bagian2\n",
        "a = ' '.join(cipherteks)\n",
        "print(f'cipherteks = {a}')"
      ],
      "metadata": {
        "colab": {
          "base_uri": "https://localhost:8080/",
          "height": 331
        },
        "id": "h2unwezK7N6s",
        "outputId": "69454bd4-2d36-4243-a2eb-a877a985ac08"
      },
      "execution_count": null,
      "outputs": [
        {
          "output_type": "stream",
          "name": "stdout",
          "text": [
            "kunci =kriptografi\n",
            "nilai awal=4\n",
            "kunci = [4, 5, 6, 7, 8, 9, 10, 11, 12, 13, 14]\n",
            "plainteks= matematika fast uad\n",
            "phi = [13, 7, 11, 9, 4, 5, 12, 6, 10, 8, 14]\n"
          ]
        },
        {
          "output_type": "error",
          "ename": "IndexError",
          "evalue": "ignored",
          "traceback": [
            "\u001b[0;31m---------------------------------------------------------------------------\u001b[0m",
            "\u001b[0;31mIndexError\u001b[0m                                Traceback (most recent call last)",
            "\u001b[0;32m<ipython-input-77-734231b4b004>\u001b[0m in \u001b[0;36m<cell line: 37>\u001b[0;34m()\u001b[0m\n\u001b[1;32m     36\u001b[0m \u001b[0mp\u001b[0m \u001b[0;34m=\u001b[0m \u001b[0;36m0\u001b[0m\u001b[0;34m\u001b[0m\u001b[0;34m\u001b[0m\u001b[0m\n\u001b[1;32m     37\u001b[0m \u001b[0;32mwhile\u001b[0m \u001b[0mp\u001b[0m \u001b[0;34m<\u001b[0m \u001b[0mpanjang_m\u001b[0m \u001b[0;34m:\u001b[0m\u001b[0;34m\u001b[0m\u001b[0;34m\u001b[0m\u001b[0m\n\u001b[0;32m---> 38\u001b[0;31m   \u001b[0mbagian1\u001b[0m\u001b[0;34m[\u001b[0m\u001b[0mp\u001b[0m\u001b[0;34m]\u001b[0m \u001b[0;34m=\u001b[0m \u001b[0ma1\u001b[0m\u001b[0;34m[\u001b[0m\u001b[0mkunci\u001b[0m\u001b[0;34m.\u001b[0m\u001b[0mindex\u001b[0m\u001b[0;34m(\u001b[0m\u001b[0mphi\u001b[0m\u001b[0;34m[\u001b[0m\u001b[0mp\u001b[0m\u001b[0;34m]\u001b[0m\u001b[0;34m)\u001b[0m\u001b[0;34m]\u001b[0m\u001b[0;34m\u001b[0m\u001b[0;34m\u001b[0m\u001b[0m\n\u001b[0m\u001b[1;32m     39\u001b[0m   \u001b[0mbagian2\u001b[0m\u001b[0;34m[\u001b[0m\u001b[0mp\u001b[0m\u001b[0;34m]\u001b[0m \u001b[0;34m=\u001b[0m \u001b[0ma2\u001b[0m\u001b[0;34m[\u001b[0m\u001b[0mkunci\u001b[0m\u001b[0;34m.\u001b[0m\u001b[0mindex\u001b[0m\u001b[0;34m(\u001b[0m\u001b[0mphi\u001b[0m\u001b[0;34m[\u001b[0m\u001b[0mp\u001b[0m\u001b[0;34m]\u001b[0m\u001b[0;34m)\u001b[0m\u001b[0;34m]\u001b[0m\u001b[0;34m\u001b[0m\u001b[0;34m\u001b[0m\u001b[0m\n\u001b[1;32m     40\u001b[0m   \u001b[0mp\u001b[0m \u001b[0;34m+=\u001b[0m \u001b[0;36m1\u001b[0m\u001b[0;34m\u001b[0m\u001b[0;34m\u001b[0m\u001b[0m\n",
            "\u001b[0;31mIndexError\u001b[0m: list index out of range"
          ]
        }
      ]
    },
    {
      "cell_type": "code",
      "source": [
        "def split_list(a_list):\n",
        "    half = len(a_list)//2\n",
        "    return a_list[:half], a_list[half:]\n",
        "\n",
        "A = [1,2,3,4,5,6]\n",
        "B, C = split_list(A)"
      ],
      "metadata": {
        "id": "KEQhwPRH9MRJ"
      },
      "execution_count": null,
      "outputs": []
    },
    {
      "cell_type": "code",
      "source": [
        "B"
      ],
      "metadata": {
        "colab": {
          "base_uri": "https://localhost:8080/"
        },
        "id": "DciaDlao-5kk",
        "outputId": "1024b353-320d-4170-b284-5f121ffe6793"
      },
      "execution_count": null,
      "outputs": [
        {
          "output_type": "execute_result",
          "data": {
            "text/plain": [
              "[1, 2, 3]"
            ]
          },
          "metadata": {},
          "execution_count": 80
        }
      ]
    },
    {
      "cell_type": "code",
      "source": [
        "import math\n",
        "math.ceil(21/6)"
      ],
      "metadata": {
        "colab": {
          "base_uri": "https://localhost:8080/"
        },
        "id": "zdYECLkAAt6l",
        "outputId": "8af71cef-42d3-4ffc-959e-db95be204642"
      },
      "execution_count": null,
      "outputs": [
        {
          "output_type": "execute_result",
          "data": {
            "text/plain": [
              "4"
            ]
          },
          "metadata": {},
          "execution_count": 92
        }
      ]
    },
    {
      "cell_type": "code",
      "source": [],
      "metadata": {
        "id": "ScDrPn3-EdaB"
      },
      "execution_count": null,
      "outputs": []
    }
  ]
}